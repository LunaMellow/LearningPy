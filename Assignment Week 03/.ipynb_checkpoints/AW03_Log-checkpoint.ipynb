{
 "cells": [
  {
   "cell_type": "markdown",
   "id": "00052e95-b458-44a3-b0ac-3a6ae15798e6",
   "metadata": {},
   "source": [
    "# Assignment Week 03"
   ]
  },
  {
   "cell_type": "markdown",
   "id": "1da80d00-4615-4736-bc55-a47dc88bbf8d",
   "metadata": {},
   "source": [
    "#### Question 7\n",
    "\n",
    "---"
   ]
  },
  {
   "cell_type": "markdown",
   "id": "a3e8c0fb-2a13-4824-bc03-eda6260ba37d",
   "metadata": {},
   "source": [
    "<div class=\"alert alert-block alert-info\">\n",
    "        Entry 28.01.2024”.\r\n",
    "</div>"
   ]
  }
 ],
 "metadata": {
  "kernelspec": {
   "display_name": "Python 3 (ipykernel)",
   "language": "python",
   "name": "python3"
  },
  "language_info": {
   "codemirror_mode": {
    "name": "ipython",
    "version": 3
   },
   "file_extension": ".py",
   "mimetype": "text/x-python",
   "name": "python",
   "nbconvert_exporter": "python",
   "pygments_lexer": "ipython3",
   "version": "3.11.7"
  }
 },
 "nbformat": 4,
 "nbformat_minor": 5
}
