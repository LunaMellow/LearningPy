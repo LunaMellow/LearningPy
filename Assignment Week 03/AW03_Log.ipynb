{
 "cells": [
  {
   "cell_type": "markdown",
   "source": [],
   "metadata": {
    "collapsed": false
   },
   "id": "1ab878a4a40e2f4c"
  },
  {
   "cell_type": "markdown",
   "source": [
    "# Assignment Week 03\n",
    "#### Question 7\n",
    "\n",
    "---"
   ],
   "metadata": {
    "collapsed": false
   },
   "id": "503f124feaded01c"
  },
  {
   "cell_type": "markdown",
   "source": [
    "<div class=\"alert alert-block alert-success\">\n",
    "<b>Entry:</b> Sunday 29.01.2024\n",
    "</div>\n",
    "\n",
    "Sources:\n",
    "\n",
    "[Pyglet Documentation](https://pyglet.readthedocs.io/)\n",
    "- General documentation\n",
    "- /module-pyglet.math\n",
    "\n",
    "[Convert image to RGB](https://www.boxentriq.com/code-breaking/pixel-values-extractor)\n",
    "- Used to convert Minecraft Mushroom cow textures to pixels in the MushroomCow class\n",
    "\n",
    "[ChatGPT]()"
   ],
   "metadata": {
    "collapsed": false
   },
   "id": "6541f6f17e2a1cf9"
  }
 ],
 "metadata": {
  "kernelspec": {
   "display_name": "Python 3 (ipykernel)",
   "language": "python",
   "name": "python3"
  },
  "language_info": {
   "codemirror_mode": {
    "name": "ipython",
    "version": 3
   },
   "file_extension": ".py",
   "mimetype": "text/x-python",
   "name": "python",
   "nbconvert_exporter": "python",
   "pygments_lexer": "ipython3",
   "version": "3.11.7"
  }
 },
 "nbformat": 4,
 "nbformat_minor": 5
}
