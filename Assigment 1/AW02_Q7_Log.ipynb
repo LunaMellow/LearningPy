{
 "cells": [
  {
   "cell_type": "markdown",
   "source": [
    "# Assignment 1\n",
    "#### BPROG - Luna Sofie Bergh"
   ],
   "metadata": {
    "collapsed": false
   },
   "id": "1ad7f8cf1be1169"
  },
  {
   "cell_type": "markdown",
   "source": [
    "---\n",
    "<div class=\"alert alert-block alert-success\">\n",
    "<b>Entry:</b> Friday 19.01.2024\n",
    "</div>\n",
    "Sources:\n",
    "\n",
    ">Pyglet Documentation\n",
    "https://pyglet.readthedocs.io/\n",
    "> - /modules/shapes.html\n",
    "> - /modules/window.html\n",
    "> - /modules/graphics/index.html\n",
    "> - /programming_guide/mouse.html\n",
    ">\n",
    ">W3Schools\n",
    ">https://www.w3schools.com/python/\n",
    "> - /ref_random_randint.asp\n",
    ">  \n",
    ">GeeksForGeeks\n",
    ">https://www.geeksforgeeks.org\n",
    "> - /pyglet-on-draw-event/\n",
    "> - /pyglet-shape-position/\n",
    "> \n",
    ">ChatGPT\n",
    "> - Pyglet physics: https://chat.openai.com/share/f069c45c-01de-4bab-b94d-2e1e32704b6c\n",
    "---"
   ],
   "metadata": {
    "collapsed": false
   },
   "id": "8e136a34783929be"
  },
  {
   "cell_type": "markdown",
   "source": [
    "---\n",
    "<div class=\"alert alert-block alert-success\">\n",
    "<b>Entry:</b> Saturday 20.01.2024\n",
    "</div>\n",
    "Sources:\n",
    "\n",
    ">Youtube\n",
    ">https://www.youtube.com/\n",
    "> - Pyglet and OpenGL: https://www.youtube.com/watch?v=GMUhXMw1zZE\n",
    "---"
   ],
   "metadata": {
    "collapsed": false
   },
   "id": "de365ebfc70ea8cb"
  },
  {
   "cell_type": "markdown",
   "source": [
    "---\n",
    "<div class=\"alert alert-block alert-success\">\n",
    "<b>Entry:</b> Sunday 21.01.2024\n",
    "</div>\n",
    "Sources:\n",
    "\n",
    ">Pyglet Documentation\n",
    "https://pyglet.readthedocs.io/\n",
    "> - /modules/shapes.html\n",
    "> - /modules/window.html\n",
    "> - /modules/graphics/index.html\n",
    "> - /programming_guide/mouse.html\n",
    ">\n",
    ">ChatGPT\n",
    "> - Pyglet debugging: https://chat.openai.com/share/68d86e31-a719-4a16-8ece-0b5f2823af9b\n",
    "---"
   ],
   "metadata": {
    "collapsed": false
   },
   "id": "87cd8024e5076695"
  },
  {
   "cell_type": "markdown",
   "source": [],
   "metadata": {
    "collapsed": false
   },
   "id": "efb7f8b5b989d76a"
  }
 ],
 "metadata": {
  "kernelspec": {
   "display_name": "Python 3",
   "language": "python",
   "name": "python3"
  },
  "language_info": {
   "codemirror_mode": {
    "name": "ipython",
    "version": 2
   },
   "file_extension": ".py",
   "mimetype": "text/x-python",
   "name": "python",
   "nbconvert_exporter": "python",
   "pygments_lexer": "ipython2",
   "version": "2.7.6"
  }
 },
 "nbformat": 4,
 "nbformat_minor": 5
}
