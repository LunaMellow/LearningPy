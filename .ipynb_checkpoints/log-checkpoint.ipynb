{
 "cells": [
  {
   "cell_type": "markdown",
   "source": [
    "# BMA1020 Mathematical Programming Logbook\n",
    "#### BPROG - Luna Sofie Bergh"
   ],
   "metadata": {
    "collapsed": false
   },
   "id": "c995d37bf4a5ae9"
  },
  {
   "cell_type": "markdown",
   "source": [
    "<div class=\"alert alert-block alert-info\">\n",
    "<b>Entry:</b> 19.01.2024\n",
    "</div>\n",
    "\n",
    "Pyglet Documentation\n",
    "https://pyglet.readthedocs.io/\n",
    "\n",
    "SymPy Documentation\n",
    "https://docs.sympy.org/"
   ],
   "metadata": {
    "collapsed": false
   },
   "id": "eef1261863fd5752"
  },
  {
   "cell_type": "markdown",
   "source": [],
   "metadata": {
    "collapsed": false
   },
   "id": "3294a88af145f90d"
  }
 ],
 "metadata": {
  "kernelspec": {
   "display_name": "Python 3",
   "language": "python",
   "name": "python3"
  },
  "language_info": {
   "codemirror_mode": {
    "name": "ipython",
    "version": 2
   },
   "file_extension": ".py",
   "mimetype": "text/x-python",
   "name": "python",
   "nbconvert_exporter": "python",
   "pygments_lexer": "ipython2",
   "version": "2.7.6"
  }
 },
 "nbformat": 4,
 "nbformat_minor": 5
}
