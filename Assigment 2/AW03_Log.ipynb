{
 "cells": [
  {
   "cell_type": "markdown",
   "source": [],
   "metadata": {
    "collapsed": false
   },
   "id": "1ab878a4a40e2f4c"
  },
  {
   "cell_type": "markdown",
   "source": [
    "# Assignment 2\n",
    "#### Question 7\n",
    "\n",
    "---"
   ],
   "metadata": {
    "collapsed": false
   },
   "id": "503f124feaded01c"
  },
  {
   "cell_type": "markdown",
   "source": [
    "Please go to my GitHub to see my strong\n",
    "dedication to this and my overall progress:\n",
    "[Github.com/LunaMellow](https://github.com/LunaMellow/LearningPy)\n",
    "[All commits (A bit messy sorry)](https://github.com/LunaMellow/LearningPy/commits/main/)\n",
    "\n",
    "I spent an ungodly amount of time on this cow and structure. Hope you guys appreciate\n",
    "my effort and dedication to making something really cool! Even tho I might not have everything\n",
    "correct and missing collisions, I will add it so I have spent most of my time tinkering with code\n",
    "structure, logic for the classes, function and modules that I have made. I went in with the\n",
    "intention of not just trying to pass the assignment but instead focus on how I can build a solid structure\n",
    "to use in the entire semester going forward. So I might not have done everything the task asked me to,\n",
    "but I have learnt so incredibly much by learning pyglet this way, and just tinkering to find the best possible\n",
    "structure. I tried collisions on my own, with chatgpt, with all the sources I could find, but I couldn't find\n",
    "a way to do it yet with the structure I created. But that's part of programming, eventually when I do find\n",
    "out how, I will be incredibly educated in how to implement it into such a structure. It will be amazing in the end,\n",
    "but even after working up to 10 hours a day with this, it wasn't enough for me to finish everything.\n",
    "\n",
    "Thank you for reading, but don't u worry. I won't give up! :)"
   ],
   "metadata": {
    "collapsed": false
   },
   "id": "6541f6f17e2a1cf9"
  },
  {
   "cell_type": "markdown",
   "source": [
    "\n",
    "---\n",
    "\n",
    "Sources:\n",
    "\n",
    "[Pyglet Documentation](https://pyglet.readthedocs.io/)\n",
    "- Ive used about every inch of the documentation... No joke\n",
    "\n",
    "[Teclado](https://teclado.com/30-days-of-python/python-30-day-21-multiple-files/)\n",
    "- To find out how to structure the code in different files\n",
    "\n",
    "[Convert image to RGB](https://www.boxentriq.com/code-breaking/pixel-values-extractor)\n",
    "- Used to convert Minecraft Mushroom cow textures to pixels in the MushroomCow class\n",
    "\n",
    "[ChatGPT](https://chat.openai.com/share/a3650034-8e94-4c2b-9ad9-736966d8ff02)\n",
    "- Pixel mapping for the cow\n",
    "- Also general debugging of typeerrors and structure (indentation)"
   ],
   "metadata": {
    "collapsed": false
   },
   "id": "7580304900dbfce9"
  }
 ],
 "metadata": {
  "kernelspec": {
   "display_name": "Python 3 (ipykernel)",
   "language": "python",
   "name": "python3"
  },
  "language_info": {
   "codemirror_mode": {
    "name": "ipython",
    "version": 3
   },
   "file_extension": ".py",
   "mimetype": "text/x-python",
   "name": "python",
   "nbconvert_exporter": "python",
   "pygments_lexer": "ipython3",
   "version": "3.11.7"
  }
 },
 "nbformat": 4,
 "nbformat_minor": 5
}
