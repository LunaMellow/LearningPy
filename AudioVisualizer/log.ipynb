{
 "cells": [
  {
   "cell_type": "markdown",
   "source": [
    "# Audio Visualizer\n",
    "\n",
    "---\n",
    "\n",
    "Date: 08/02/2024\n",
    "Author: Luna Sofie Bergh\n"
   ],
   "metadata": {
    "collapsed": false
   },
   "id": "b0c9540f6f5a4e7"
  },
  {
   "cell_type": "markdown",
   "source": [
    "#### Entry 08/02/2024\n",
    "\n",
    "Commit [[Stable] 4bd8402](https://github.com/LunaMellow/LearningPy/commit/4bd840226a184292f6205f9194374e615ca3b2d2)\n",
    "```plaintext\n",
    "Created basic classful structure for the application. This sets the foundation for the rest of the development\n",
    "```\n",
    "\n",
    "Commit [[Stable] 4bd8402]()\n",
    "```plaintext\n",
    "Text here\n",
    "```\n",
    "\n",
    "Sources:"
   ],
   "metadata": {
    "collapsed": false
   },
   "id": "392f9e5d3c453707"
  }
 ],
 "metadata": {
  "kernelspec": {
   "display_name": "Python 3",
   "language": "python",
   "name": "python3"
  },
  "language_info": {
   "codemirror_mode": {
    "name": "ipython",
    "version": 2
   },
   "file_extension": ".py",
   "mimetype": "text/x-python",
   "name": "python",
   "nbconvert_exporter": "python",
   "pygments_lexer": "ipython2",
   "version": "2.7.6"
  }
 },
 "nbformat": 4,
 "nbformat_minor": 5
}
