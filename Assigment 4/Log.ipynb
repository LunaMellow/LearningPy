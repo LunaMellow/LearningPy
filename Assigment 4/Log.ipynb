{
 "cells": [
  {
   "cell_type": "markdown",
   "source": [
    "# Assigment 4\n",
    "\n",
    "---\n"
   ],
   "metadata": {
    "collapsed": false
   },
   "id": "a5a2a5f340fd1648"
  },
  {
   "cell_type": "markdown",
   "source": [
    "Sources:\n",
    "\n",
    "Wikipedia\n",
    "[Smoothstep](https://en.wikipedia.org/wiki/Smoothstep)\n",
    "[Understanding bezier](https://mmrndev.medium.com/understanding-b%C3%A9zier-curves-f6eaa0fa6c7d)\n",
    "[Bezier curves](https://en.wikipedia.org/wiki/B%C3%A9zier_curve)\n",
    "\n",
    "TutorialsPoint\n",
    "[Quadratic Bezier Formula Python](https://www.tutorialspoint.com/path-curve-to-quadratic-bezier-function-in-python-wand)\n",
    "\n",
    "ChatGPT\n",
    "[Bezier curves](https://chat.openai.com/share/41727c31-1b42-4abd-bbc8-101d2f4c770e)\n",
    "Helped with an issue with the bezier curves"
   ],
   "metadata": {
    "collapsed": false
   },
   "id": "39c1e823d837c24f"
  }
 ],
 "metadata": {
  "kernelspec": {
   "display_name": "Python 3",
   "language": "python",
   "name": "python3"
  },
  "language_info": {
   "codemirror_mode": {
    "name": "ipython",
    "version": 2
   },
   "file_extension": ".py",
   "mimetype": "text/x-python",
   "name": "python",
   "nbconvert_exporter": "python",
   "pygments_lexer": "ipython2",
   "version": "2.7.6"
  }
 },
 "nbformat": 4,
 "nbformat_minor": 5
}
